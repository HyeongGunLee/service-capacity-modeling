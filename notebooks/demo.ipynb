{
 "cells": [
  {
   "cell_type": "markdown",
   "id": "friendly-belief",
   "metadata": {},
   "source": [
    "# Provisioning a Cassandra Database\n",
    "\n",
    "Right out of the box we now how to capacity plan Cassandra"
   ]
  },
  {
   "cell_type": "code",
   "execution_count": 1,
   "id": "undefined-enterprise",
   "metadata": {},
   "outputs": [],
   "source": [
    "from service_capacity_modeling.interface import CapacityDesires\n",
    "from service_capacity_modeling.interface import FixedInterval, Interval\n",
    "from service_capacity_modeling.interface import QueryPattern, DataShape\n",
    "\n",
    "db_desires = CapacityDesires(\n",
    "    # This service is important to the business, not critical (tier 0)\n",
    "    service_tier=1,\n",
    "    query_pattern=QueryPattern(\n",
    "        # Not sure exactly how much QPS we will do, but we think around\n",
    "        # 10,000 reads and 10,000 writes per second.\n",
    "        estimated_read_per_second=Interval(\n",
    "            low=1000, mid=10000, high=100000, confidence=0.9\n",
    "        ),\n",
    "        estimated_write_per_second=Interval(\n",
    "            low=1000, mid=10000, high=100000, confidence=0.9\n",
    "        ),\n",
    "    ),\n",
    "    # Not sure how much data, but we think it'll be below 1 TiB\n",
    "    data_shape=DataShape(\n",
    "        estimated_state_size_gib=Interval(low=100, mid=500, high=1000, confidence=0.9),\n",
    "    ),\n",
    ")"
   ]
  },
  {
   "cell_type": "code",
   "execution_count": 2,
   "id": "ideal-culture",
   "metadata": {},
   "outputs": [
    {
     "name": "stdout",
     "output_type": "stream",
     "text": [
      "Loading aws from /home/jolynch/pg/service-capacity-modeling/service_capacity_modeling/hardware/profiles/shapes/aws\n",
      "Loading /home/jolynch/pg/service-capacity-modeling/service_capacity_modeling/hardware/profiles/pricing/aws/3yr-reserved.json\n"
     ]
    }
   ],
   "source": [
    "from service_capacity_modeling.capacity_planner import planner\n",
    "from service_capacity_modeling.models.org import netflix\n",
    "\n",
    "# Load up the Netflix capacity models\n",
    "planner.register_group(netflix.models)\n",
    "\n",
    "cap_plan = planner.plan(\n",
    "    model_name=\"org.netflix.cassandra\",\n",
    "    region=\"us-east-1\",\n",
    "    desires=db_desires,\n",
    "    allow_gp2=True,\n",
    ")\n",
    "\n",
    "import pprint\n",
    "def mprint(x):\n",
    "    pprint.pprint(x.dict(exclude_unset=True), sort_dicts=False)"
   ]
  },
  {
   "cell_type": "markdown",
   "id": "hydraulic-catch",
   "metadata": {},
   "source": [
    "# An uncertain Capacity plan has a few elements\n",
    "\n",
    "* `requirement`: The range of requirements\n",
    "* `least_regret`: The clusters which minimized the models regret function over many simulations.\n",
    "* `mean`: The clusters that would be provisioned for the average (midpoint) of all intervals.\n",
    "* `percentiles`: The clusters that would be provisioned assuming various percentiles of the inputs (can use this to generate a \"worse case\" estimate)"
   ]
  },
  {
   "cell_type": "code",
   "execution_count": 3,
   "id": "automotive-evidence",
   "metadata": {},
   "outputs": [],
   "source": [
    "requirement = cap_plan.requirement\n",
    "\n",
    "lr_opt1, lr_opt1_cost = (\n",
    "    cap_plan.least_regret[0].candidate_clusters.zonal[0],\n",
    "    cap_plan.least_regret[0].candidate_clusters.total_annual_cost\n",
    ")\n",
    "lr_opt2, lr_opt2_cost = (\n",
    "    cap_plan.least_regret[1].candidate_clusters.zonal[0],\n",
    "    cap_plan.least_regret[1].candidate_clusters.total_annual_cost\n",
    ")\n",
    "mean_opt, mean_cost = (\n",
    "    cap_plan.mean[0].candidate_clusters.zonal[0],\n",
    "    cap_plan.mean[0].candidate_clusters.total_annual_cost\n",
    ")"
   ]
  },
  {
   "cell_type": "code",
   "execution_count": 4,
   "id": "transsexual-pulse",
   "metadata": {},
   "outputs": [
    {
     "name": "stdout",
     "output_type": "stream",
     "text": [
      "{'core_reference_ghz': 2.3,\n",
      " 'cpu_cores': {'low': 2.0,\n",
      "               'mid': 13.0,\n",
      "               'high': 68.0,\n",
      "               'confidence': 0.9,\n",
      "               'minimum_value': 1.0,\n",
      "               'maximum_value': 132.0},\n",
      " 'mem_gib': {'low': 19.0,\n",
      "             'mid': 108.0,\n",
      "             'high': 391.0,\n",
      "             'confidence': 0.9,\n",
      "             'minimum_value': 16.0,\n",
      "             'maximum_value': 699.0},\n",
      " 'network_mbps': {'low': 10.0,\n",
      "                  'mid': 124.0,\n",
      "                  'high': 862.0,\n",
      "                  'confidence': 0.9,\n",
      "                  'minimum_value': 4.0,\n",
      "                  'maximum_value': 2180.0},\n",
      " 'disk_gib': {'low': 67.0,\n",
      "              'mid': 364.0,\n",
      "              'high': 1319.0,\n",
      "              'confidence': 0.9,\n",
      "              'minimum_value': 55.0,\n",
      "              'maximum_value': 2358.0}}\n"
     ]
    }
   ],
   "source": [
    "mprint(requirement)"
   ]
  },
  {
   "cell_type": "code",
   "execution_count": 5,
   "id": "amended-frank",
   "metadata": {},
   "outputs": [
    {
     "name": "stdout",
     "output_type": "stream",
     "text": [
      "Cluster:\n",
      "{'cluster_type': 'cassandra',\n",
      " 'count': 4,\n",
      " 'instance': {'name': 'r5.2xlarge',\n",
      "              'cpu': 8,\n",
      "              'cpu_ghz': 3.1,\n",
      "              'ram_gib': 64.0,\n",
      "              'net_mbps': 2000.0,\n",
      "              'drive': None,\n",
      "              'annual_cost': 1660.0},\n",
      " 'attached_drives': [{'name': 'gp2',\n",
      "                      'size_gib': 300,\n",
      "                      'annual_cost_per_gib': 1.2,\n",
      "                      'annual_cost_per_read_io': 0,\n",
      "                      'annual_cost_per_write_io': 0,\n",
      "                      'read_io_latency_ms': {'low': 0.4,\n",
      "                                             'mid': 0.6,\n",
      "                                             'high': 2.0,\n",
      "                                             'confidence': 0.98},\n",
      "                      'write_io_latency_ms': {'low': 0.5,\n",
      "                                              'mid': 1.0,\n",
      "                                              'high': 5.0,\n",
      "                                              'confidence': 0.98}}],\n",
      " 'annual_cost': 7000.0}\n",
      "Cost:\n",
      "{'low': 21000.0, 'mid': 21000.0, 'high': 21000.0, 'confidence': 1.0}\n"
     ]
    }
   ],
   "source": [
    "print(\"Cluster:\",); mprint(lr_opt1)\n",
    "print(\"Cost:\",); mprint(lr_opt1_cost)"
   ]
  },
  {
   "cell_type": "code",
   "execution_count": 6,
   "id": "irish-sheep",
   "metadata": {},
   "outputs": [
    {
     "name": "stdout",
     "output_type": "stream",
     "text": [
      "Cluster:\n",
      "{'cluster_type': 'cassandra',\n",
      " 'count': 1,\n",
      " 'instance': {'name': 'r5d.8xlarge',\n",
      "              'cpu': 32,\n",
      "              'cpu_ghz': 3.1,\n",
      "              'ram_gib': 256.0,\n",
      "              'net_mbps': 10000.0,\n",
      "              'drive': {'name': 'ephem',\n",
      "                        'size_gib': 1200,\n",
      "                        'read_io_latency_ms': {'low': 0.2,\n",
      "                                               'mid': 0.3,\n",
      "                                               'high': 1.0,\n",
      "                                               'confidence': 0.98}},\n",
      "              'annual_cost': 7588.0},\n",
      " 'attached_drives': [],\n",
      " 'annual_cost': 7588.0}\n",
      "Cost:\n",
      "{'low': 22764.0, 'mid': 22764.0, 'high': 22764.0, 'confidence': 1.0}\n"
     ]
    }
   ],
   "source": [
    "print(\"Cluster:\",); mprint(lr_opt2)\n",
    "print(\"Cost:\",); mprint(lr_opt2_cost)"
   ]
  },
  {
   "cell_type": "code",
   "execution_count": 7,
   "id": "knowing-compact",
   "metadata": {},
   "outputs": [
    {
     "name": "stdout",
     "output_type": "stream",
     "text": [
      "{'cluster_type': 'cassandra',\n",
      " 'count': 2,\n",
      " 'instance': {'name': 'm5.2xlarge',\n",
      "              'cpu': 8,\n",
      "              'cpu_ghz': 3.1,\n",
      "              'ram_gib': 32.0,\n",
      "              'net_mbps': 2000.0,\n",
      "              'drive': None,\n",
      "              'annual_cost': 1264.6},\n",
      " 'attached_drives': [{'name': 'gp2',\n",
      "                      'size_gib': 600,\n",
      "                      'annual_cost_per_gib': 1.2,\n",
      "                      'annual_cost_per_read_io': 0,\n",
      "                      'annual_cost_per_write_io': 0,\n",
      "                      'read_io_latency_ms': {'low': 0.4,\n",
      "                                             'mid': 0.6,\n",
      "                                             'high': 2.0,\n",
      "                                             'confidence': 0.98},\n",
      "                      'write_io_latency_ms': {'low': 0.5,\n",
      "                                              'mid': 1.0,\n",
      "                                              'high': 5.0,\n",
      "                                              'confidence': 0.98}}],\n",
      " 'annual_cost': 3249.2}\n",
      "{'low': 9747.599999999999,\n",
      " 'mid': 9747.599999999999,\n",
      " 'high': 9747.599999999999,\n",
      " 'confidence': 1.0}\n"
     ]
    }
   ],
   "source": [
    "mprint(mean_opt)\n",
    "mprint(mean_cost)"
   ]
  },
  {
   "cell_type": "markdown",
   "id": "danish-bristol",
   "metadata": {},
   "source": [
    "# Modeling Intervals\n",
    "The key to the capacity planner is going from intervals such as `my RPS will be within an order of magnitude of 10,000 per second` to a generative probability distribution that is skewed. We represent these with `Intervals` which have a `low`, `mid` and `high`. For example:\n",
    "\n",
    "```\n",
    "rps = Interval(low=1_000, mid=10_000, high=100_000, confidence=0.9)\n",
    "```\n",
    "\n",
    "Under the hood we do this by solving a numerical set of equations for the [gamma](https://en.wikipedia.org/wiki/Gamma_distribution#:~:text=The%20gamma%20distribution%20is%20the,%CF%88%20is%20the%20digamma%20function) distribution and fitting to the summary statistics."
   ]
  },
  {
   "cell_type": "code",
   "execution_count": 8,
   "id": "vulnerable-characteristic",
   "metadata": {},
   "outputs": [
    {
     "data": {
      "image/png": "[encoded data removed]",
      "text/plain": [
       "<Figure size 1080x360 with 2 Axes>"
      ]
     },
     "metadata": {
      "needs_background": "light"
     },
     "output_type": "display_data"
    }
   ],
   "source": [
    "from service_capacity_modeling.stats import gamma_for_interval\n",
    "import matplotlib.pyplot as plt\n",
    "import numpy as np\n",
    "\n",
    "rps = Interval(low=1_000, mid=10_000, high=100_000, confidence=0.9)\n",
    "wps = Interval(low=100, mid=1_000, high=2_000, confidence=0.9)\n",
    "\n",
    "rps_gamma = gamma_for_interval(rps)\n",
    "wps_gamma = gamma_for_interval(wps)\n",
    "\n",
    "\n",
    "fig, ax = plt.subplots(2, 1, figsize=(15,5))\n",
    "ax[0].ticklabel_format(useOffset=False)\n",
    "\n",
    "x = np.linspace(10, 40_000, 10000)\n",
    "\n",
    "# First RPS\n",
    "ax[0].plot(x, rps_gamma.pdf(x), 'k-', lw=2, label='rps PDF')\n",
    "\n",
    "r = rps_gamma.rvs(size=1028)\n",
    "ax[0].hist(r, density=True, histtype='stepfilled', alpha=0.2, bins=100, label=\"simulated\")\n",
    "ax[0].legend(loc='best', frameon=False)\n",
    "\n",
    "# Now WPS\n",
    "ax[1].plot(x, wps_gamma.pdf(x), 'k-', lw=2, label='wps PDF')\n",
    "\n",
    "r = wps_gamma.rvs(size=1028)\n",
    "ax[1].hist(r, density=True, histtype='stepfilled', alpha=0.2, bins=100, label=\"simulated\")\n",
    "ax[1].legend(loc='best', frameon=False)\n",
    "\n",
    "plt.show()"
   ]
  },
  {
   "cell_type": "markdown",
   "id": "conscious-principal",
   "metadata": {},
   "source": [
    "# Key Insight: Skew Matters\n",
    "\n",
    "Physical processes skew left and skew right, and we need to be able to represent that. Luckily we can!"
   ]
  },
  {
   "cell_type": "code",
   "execution_count": 9,
   "id": "oriented-wiring",
   "metadata": {},
   "outputs": [
    {
     "data": {
      "image/png": "[encoded data removed]",
      "text/plain": [
       "<Figure size 1080x360 with 1 Axes>"
      ]
     },
     "metadata": {
      "needs_background": "light"
     },
     "output_type": "display_data"
    }
   ],
   "source": [
    "left_skew = Interval(low=100, mid=300, high=2000, confidence=0.9)\n",
    "right_skew = Interval(low=100, mid=1500, high=2000, confidence=0.9)\n",
    "\n",
    "left_gamma = gamma_for_interval(left_skew)\n",
    "right_gamma = gamma_for_interval(right_skew)\n",
    "\n",
    "fig, ax = plt.subplots(1, 1, figsize=(15,5))\n",
    "\n",
    "x = np.linspace(10, 4000, 1000)\n",
    "\n",
    "# Now right skew\n",
    "ax.plot(x, left_gamma.pdf(x), 'k-', lw=2, label='left PDF')\n",
    "ax.plot(x, right_gamma.pdf(x), 'k-', lw=2, label='right PDF')\n",
    "\n",
    "ax.hist(left_gamma.rvs(size=1028), density=True, histtype='stepfilled', alpha=0.2, bins=100, label=\"left sim\")\n",
    "ax.hist(right_gamma.rvs(size=1028), density=True, histtype='stepfilled', alpha=0.2, bins=100, label=\"right sim\")\n",
    "\n",
    "ax.legend(loc='best', frameon=False)\n",
    "ax.set_xlim(0.0, 4000)\n",
    "\n",
    "plt.show()"
   ]
  },
  {
   "cell_type": "markdown",
   "id": "exact-reservation",
   "metadata": {},
   "source": [
    "We can actually use this to approximate all manner of Hardware properties such as:\n",
    "\n",
    "* On CPU time of operations (e.g. some reads are slower than others)\n",
    "* Request size distributions (e.g. some reads are bigger than others)\n",
    "* Disk latency (e.g. some disks are faster or more consistent than others)\n",
    "\n",
    "For a concrete example let's model a m5d drive which we [model](https://github.com/Netflix-Skunkworks/service-capacity-modeling/blob/dd1fb503b4505327d1cf14d2d614c0e796bb8f05/service_capacity_modeling/hardware/profiles/shapes/aws.json#L98) with an io latency distribution. Data for comparision comes from using `biosnoop` and [`histogram.py`](https://github.com/bitly/data_hacks/blob/master/data_hacks/histogram.py)\n",
    "\n",
    "```bash\n",
    "$ sudo /usr/share/bcc/tools/biosnoop > ios\n",
    "$ grep SharedPool ios | tr -s ' ' | cut -f 8  -d ' ' > io_lat\n",
    "$ cat io_lat | histogram.py -l -p\n",
    "# NumSamples = 107517; Min = 0.06; Max = 2.43\n",
    "# Mean = 0.118898; Variance = 0.002304; SD = 0.048005; Median 0.100000\n",
    "# each ∎ represents a count of 569\n",
    "    0.0600 -     0.0623 [    94]:  (0.09%)\n",
    "    0.0623 -     0.0670 [     0]:  (0.00%)\n",
    "    0.0670 -     0.0762 [   505]:  (0.47%)\n",
    "    0.0762 -     0.0948 [ 33459]: ∎∎∎∎∎∎∎∎∎∎∎∎∎∎∎∎∎∎∎∎∎∎∎∎∎∎∎∎∎∎∎∎∎∎∎∎∎∎∎∎∎∎∎∎∎∎∎∎∎∎∎∎∎∎∎∎∎∎ (31.12%)\n",
    "    0.0948 -     0.1318 [ 42706]: ∎∎∎∎∎∎∎∎∎∎∎∎∎∎∎∎∎∎∎∎∎∎∎∎∎∎∎∎∎∎∎∎∎∎∎∎∎∎∎∎∎∎∎∎∎∎∎∎∎∎∎∎∎∎∎∎∎∎∎∎∎∎∎∎∎∎∎∎∎∎∎∎∎∎∎ (39.72%)\n",
    "    0.1318 -     0.2060 [ 29154]: ∎∎∎∎∎∎∎∎∎∎∎∎∎∎∎∎∎∎∎∎∎∎∎∎∎∎∎∎∎∎∎∎∎∎∎∎∎∎∎∎∎∎∎∎∎∎∎∎∎∎∎ (27.12%)\n",
    "    0.2060 -     0.3542 [   994]: ∎ (0.92%)\n",
    "    0.3542 -     0.6508 [   523]:  (0.49%)\n",
    "    0.6508 -     1.2438 [    77]:  (0.07%)\n",
    "    1.2438 -     2.4300 [     5]:  (0.00%)\n",
    "```\n"
   ]
  },
  {
   "cell_type": "code",
   "execution_count": 10,
   "id": "iraqi-tutorial",
   "metadata": {},
   "outputs": [
    {
     "name": "stdout",
     "output_type": "stream",
     "text": [
      "[0.08 0.1  0.24] with range [0.06, 2.43]\n"
     ]
    }
   ],
   "source": [
    "real_data = np.loadtxt(\"io_lat\")\n",
    "real_interval = np.percentile(real_data, [1, 50, 99])\n",
    "print(f\"{real_interval} with range [{min(real_data)}, {max(real_data)}]\")\n",
    "\n",
    "read_io_latency = FixedInterval(low=0.08, mid=0.1, high=0.24, confidence=0.98)\n",
    "io_gamma = gamma_for_interval(read_io_latency)"
   ]
  },
  {
   "cell_type": "code",
   "execution_count": 11,
   "id": "invisible-harvey",
   "metadata": {},
   "outputs": [
    {
     "data": {
      "image/png": "[encoded data removed]",
      "text/plain": [
       "<Figure size 1080x360 with 1 Axes>"
      ]
     },
     "metadata": {
      "needs_background": "light"
     },
     "output_type": "display_data"
    }
   ],
   "source": [
    "fig, ax = plt.subplots(1, 1, figsize=(15,5))\n",
    "\n",
    "x = np.linspace(0.01, 0.3, 10000)\n",
    "\n",
    "ax.plot(x, io_gamma.pdf(x), 'k-', lw=2, label='io PDF')\n",
    "\n",
    "r = io_gamma.rvs(size=len(real_data))\n",
    "ax.hist(r, density=True, histtype='stepfilled', alpha=0.4, bins=50, label=\"simulated\")\n",
    "ax.hist(real_data, density=True, histtype='stepfilled', bins=200, alpha=0.2, label=\"real\")\n",
    "\n",
    "ax.legend(loc='best', frameon=False)\n",
    "ax.set_xlim(0.0, 0.3)\n",
    "\n",
    "plt.show()"
   ]
  },
  {
   "cell_type": "code",
   "execution_count": 12,
   "id": "latest-grain",
   "metadata": {},
   "outputs": [
    {
     "name": "stdout",
     "output_type": "stream",
     "text": [
      "KstestResult(statistic=0.35001906675223454, pvalue=0.0)\n"
     ]
    }
   ],
   "source": [
    "from scipy.stats import kstest\n",
    "print(kstest(r, real_data))"
   ]
  }
 ],
 "metadata": {
  "kernelspec": {
   "display_name": "Python 3",
   "language": "python",
   "name": "python3"
  },
  "language_info": {
   "codemirror_mode": {
    "name": "ipython",
    "version": 3
   },
   "file_extension": ".py",
   "mimetype": "text/x-python",
   "name": "python",
   "nbconvert_exporter": "python",
   "pygments_lexer": "ipython3",
   "version": "3.8.5"
  }
 },
 "nbformat": 4,
 "nbformat_minor": 5
}
