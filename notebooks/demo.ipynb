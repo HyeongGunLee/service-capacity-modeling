{
 "cells": [
  {
   "cell_type": "markdown",
   "id": "friendly-belief",
   "metadata": {},
   "source": [
    "# Provisioning a Cassandra Database\n",
    "\n",
    "Right out of the box we now how to capacity plan Cassandra"
   ]
  },
  {
   "cell_type": "code",
   "execution_count": 1,
   "id": "undefined-enterprise",
   "metadata": {},
   "outputs": [],
   "source": [
    "from service_capacity_modeling.interface import CapacityDesires\n",
    "from service_capacity_modeling.interface import FixedInterval, Interval\n",
    "from service_capacity_modeling.interface import QueryPattern, DataShape\n",
    "\n",
    "db_desires = CapacityDesires(\n",
    "    # This service is critical to the business\n",
    "    service_tier=1,\n",
    "    query_pattern=QueryPattern(\n",
    "        # Not sure exactly how much QPS we will do, but we think around\n",
    "        # 10,000 reads and 10,000 writes per second.\n",
    "        estimated_read_per_second=Interval(\n",
    "            low=1000, mid=10000, high=100000, confidence=0.9\n",
    "        ),\n",
    "        estimated_write_per_second=Interval(\n",
    "            low=1000, mid=10000, high=100000, confidence=0.9\n",
    "        ),\n",
    "    ),\n",
    "    # Not sure how much data, but we think it'll be below 1 TiB\n",
    "    data_shape=DataShape(\n",
    "        estimated_state_size_gib=Interval(low=10, mid=100, high=1000, confidence=0.9),\n",
    "    ),\n",
    ")"
   ]
  },
  {
   "cell_type": "code",
   "execution_count": 2,
   "id": "ideal-culture",
   "metadata": {},
   "outputs": [
    {
     "name": "stdout",
     "output_type": "stream",
     "text": [
      "Loading aws from /home/jolynch/pg/service-capacity-modeling/service_capacity_modeling/hardware/profiles/shapes/aws\n",
      "Loading /home/jolynch/pg/service-capacity-modeling/service_capacity_modeling/hardware/profiles/pricing/aws/3yr-reserved.json\n"
     ]
    }
   ],
   "source": [
    "from service_capacity_modeling.capacity_planner import planner\n",
    "from service_capacity_modeling.models.org import netflix\n",
    "\n",
    "# Load up the Netflix capacity models\n",
    "planner.register_group(netflix.models)\n",
    "\n",
    "cap_plan = planner.plan(\n",
    "    model_name=\"org.netflix.cassandra\",\n",
    "    region=\"us-east-1\",\n",
    "    desires=db_desires,\n",
    ")\n",
    "\n",
    "import pprint\n",
    "def mprint(x):\n",
    "    pprint.pprint(x.dict(exclude_unset=True), sort_dicts=False)"
   ]
  },
  {
   "cell_type": "markdown",
   "id": "hydraulic-catch",
   "metadata": {},
   "source": [
    "# An uncertain Capacity plan has a few elements\n",
    "\n",
    "* `requirement`: The range of requirements\n",
    "* `least_regret`: The clusters which minimized the models regret function over many simulations.\n",
    "* `mean`: The clusters that would be provisioned for the average (midpoint) of all intervals.\n",
    "* `percentiles`: The clusters that would be provisioned assuming various percentiles of the inputs (can use this to generate a \"worse case\" estimate)"
   ]
  },
  {
   "cell_type": "code",
   "execution_count": 3,
   "id": "automotive-evidence",
   "metadata": {},
   "outputs": [],
   "source": [
    "requirement = cap_plan.requirements\n",
    "\n",
    "lr_opt1, lr_opt1_cost = (\n",
    "    cap_plan.least_regret[0].candidate_clusters.zonal[0],\n",
    "    cap_plan.least_regret[0].candidate_clusters.total_annual_cost\n",
    ")\n",
    "lr_opt2, lr_opt2_cost = (\n",
    "    cap_plan.least_regret[1].candidate_clusters.zonal[0],\n",
    "    cap_plan.least_regret[1].candidate_clusters.total_annual_cost\n",
    ")\n",
    "mean_opt, mean_cost = (\n",
    "    cap_plan.mean[0].candidate_clusters.zonal[0],\n",
    "    cap_plan.mean[0].candidate_clusters.total_annual_cost\n",
    ")"
   ]
  },
  {
   "cell_type": "code",
   "execution_count": 4,
   "id": "transsexual-pulse",
   "metadata": {},
   "outputs": [
    {
     "name": "stdout",
     "output_type": "stream",
     "text": [
      "{'zonal': [{'requirement_type': 'cassandra-zonal',\n",
      "            'core_reference_ghz': 2.3,\n",
      "            'cpu_cores': {'low': 2.0,\n",
      "                          'mid': 14.0,\n",
      "                          'high': 81.0,\n",
      "                          'confidence': 0.9,\n",
      "                          'minimum_value': 1.0,\n",
      "                          'maximum_value': 152.0},\n",
      "            'mem_gib': {'low': 0.0,\n",
      "                        'mid': 2.0,\n",
      "                        'high': 75.0,\n",
      "                        'confidence': 0.9,\n",
      "                        'minimum_value': 0.0,\n",
      "                        'maximum_value': 109.0},\n",
      "            'network_mbps': {'low': 14.0,\n",
      "                             'mid': 130.0,\n",
      "                             'high': 1108.0,\n",
      "                             'confidence': 0.9,\n",
      "                             'minimum_value': 6.0,\n",
      "                             'maximum_value': 2656.0},\n",
      "            'disk_gib': {'low': 7.0,\n",
      "                         'mid': 37.0,\n",
      "                         'high': 176.0,\n",
      "                         'confidence': 0.9,\n",
      "                         'minimum_value': 3.0,\n",
      "                         'maximum_value': 257.0}}],\n",
      " 'regional': []}\n"
     ]
    }
   ],
   "source": [
    "mprint(requirement)"
   ]
  },
  {
   "cell_type": "code",
   "execution_count": 5,
   "id": "amended-frank",
   "metadata": {},
   "outputs": [
    {
     "name": "stdout",
     "output_type": "stream",
     "text": [
      "Cluster:\n",
      "{'cluster_type': 'cassandra',\n",
      " 'count': 2,\n",
      " 'instance': {'name': 'm5d.2xlarge',\n",
      "              'cpu': 8,\n",
      "              'cpu_ghz': 3.1,\n",
      "              'ram_gib': 32.0,\n",
      "              'net_mbps': 2000.0,\n",
      "              'drive': {'name': 'ephem',\n",
      "                        'size_gib': 300,\n",
      "                        'read_io_latency_ms': {'low': 0.08,\n",
      "                                               'mid': 0.12,\n",
      "                                               'high': 0.16,\n",
      "                                               'confidence': 0.9,\n",
      "                                               'minimum_value': 0.07,\n",
      "                                               'maximum_value': 2.0}},\n",
      "              'annual_cost': 1488.6},\n",
      " 'attached_drives': [],\n",
      " 'annual_cost': 2977.2,\n",
      " 'cluster_params': {'cassandra.keyspace.rf': 3}}\n",
      "\n",
      "Requirement:\n",
      "{'requirement_type': 'cassandra-zonal',\n",
      " 'core_reference_ghz': 2.3,\n",
      " 'cpu_cores': {'low': 22.0, 'mid': 22.0, 'high': 22.0, 'confidence': 1.0},\n",
      " 'mem_gib': {'low': 0.0, 'mid': 0.0, 'high': 0.0, 'confidence': 1.0},\n",
      " 'network_mbps': {'low': 350.0, 'mid': 350.0, 'high': 350.0, 'confidence': 1.0},\n",
      " 'disk_gib': {'low': 96.0, 'mid': 96.0, 'high': 96.0, 'confidence': 1.0},\n",
      " 'context': {'working_set': 0.01,\n",
      "             'rps_working_set': 1.0,\n",
      "             'disk_slo_working_set': 0.01,\n",
      "             'replication_factor': 3,\n",
      "             'compression_ratio': 0.73,\n",
      "             'read_per_second': 4434.0}}\n",
      "\n",
      "Cost: 8955.79\n"
     ]
    }
   ],
   "source": [
    "print(\"Cluster:\",); mprint(lr_opt1)\n",
    "print(\"\\nRequirement:\",); mprint(cap_plan.least_regret[0].requirements.zonal[0])\n",
    "print(f\"\\nCost: {lr_opt1_cost}\")"
   ]
  },
  {
   "cell_type": "code",
   "execution_count": 6,
   "id": "irish-sheep",
   "metadata": {},
   "outputs": [
    {
     "name": "stdout",
     "output_type": "stream",
     "text": [
      "Cluster:\n",
      "{'cluster_type': 'cassandra',\n",
      " 'count': 2,\n",
      " 'instance': {'name': 'm5.2xlarge',\n",
      "              'cpu': 8,\n",
      "              'cpu_ghz': 3.1,\n",
      "              'ram_gib': 32.0,\n",
      "              'net_mbps': 2000.0,\n",
      "              'drive': None,\n",
      "              'annual_cost': 1264.6},\n",
      " 'attached_drives': [{'name': 'gp2',\n",
      "                      'size_gib': 200,\n",
      "                      'annual_cost_per_gib': 1.2,\n",
      "                      'annual_cost_per_read_io': 0,\n",
      "                      'annual_cost_per_write_io': 0,\n",
      "                      'read_io_latency_ms': {'low': 0.8,\n",
      "                                             'mid': 1.05,\n",
      "                                             'high': 1.8,\n",
      "                                             'confidence': 0.9,\n",
      "                                             'maximum_value': 10.0},\n",
      "                      'write_io_latency_ms': {'low': 1.2,\n",
      "                                              'mid': 2.0,\n",
      "                                              'high': 4.0,\n",
      "                                              'confidence': 0.9,\n",
      "                                              'maximum_value': 20.0}}],\n",
      " 'annual_cost': 2769.2,\n",
      " 'cluster_params': {'cassandra.keyspace.rf': 3}}\n",
      "\n",
      "Requirement:\n",
      "{'requirement_type': 'cassandra-zonal',\n",
      " 'core_reference_ghz': 2.3,\n",
      " 'cpu_cores': {'low': 5.0, 'mid': 5.0, 'high': 5.0, 'confidence': 1.0},\n",
      " 'mem_gib': {'low': 13.0, 'mid': 13.0, 'high': 13.0, 'confidence': 1.0},\n",
      " 'network_mbps': {'low': 44.0, 'mid': 44.0, 'high': 44.0, 'confidence': 1.0},\n",
      " 'disk_gib': {'low': 30.0, 'mid': 30.0, 'high': 30.0, 'confidence': 1.0},\n",
      " 'context': {'working_set': 0.42414238720584274,\n",
      "             'rps_working_set': 1.0,\n",
      "             'disk_slo_working_set': 0.42414238720584274,\n",
      "             'replication_factor': 3,\n",
      "             'compression_ratio': 0.71,\n",
      "             'read_per_second': 1443.0}}\n",
      "Cost: 8315.16\n"
     ]
    }
   ],
   "source": [
    "print(\"Cluster:\",); mprint(lr_opt2)\n",
    "print(\"\\nRequirement:\",); mprint(cap_plan.least_regret[1].requirements.zonal[0])\n",
    "print(f\"Cost: {lr_opt2_cost}\")"
   ]
  },
  {
   "cell_type": "code",
   "execution_count": 7,
   "id": "knowing-compact",
   "metadata": {},
   "outputs": [
    {
     "name": "stdout",
     "output_type": "stream",
     "text": [
      "{'cluster_type': 'cassandra',\n",
      " 'count': 2,\n",
      " 'instance': {'name': 'm5d.2xlarge',\n",
      "              'cpu': 8,\n",
      "              'cpu_ghz': 3.1,\n",
      "              'ram_gib': 32.0,\n",
      "              'net_mbps': 2000.0,\n",
      "              'drive': {'name': 'ephem',\n",
      "                        'size_gib': 300,\n",
      "                        'read_io_latency_ms': {'low': 0.08,\n",
      "                                               'mid': 0.12,\n",
      "                                               'high': 0.16,\n",
      "                                               'confidence': 0.9,\n",
      "                                               'minimum_value': 0.07,\n",
      "                                               'maximum_value': 2.0}},\n",
      "              'annual_cost': 1488.6},\n",
      " 'attached_drives': [],\n",
      " 'annual_cost': 2977.2,\n",
      " 'cluster_params': {'cassandra.keyspace.rf': 3}}\n",
      "8956.80\n"
     ]
    }
   ],
   "source": [
    "mprint(mean_opt)\n",
    "print(mean_cost)"
   ]
  },
  {
   "cell_type": "markdown",
   "id": "incident-beatles",
   "metadata": {},
   "source": [
    "# Example 2: Small Dataset + High QPS\n",
    "In this example we have a more demanding requirement from a RPS and WPS point of view, but we have a lot less data.\n",
    "\n",
    "**Observe**:\n",
    "* Increase in compute heavy instance types being deployed to compensate for WPS/RPS requirements"
   ]
  },
  {
   "cell_type": "code",
   "execution_count": 8,
   "id": "developing-trainer",
   "metadata": {},
   "outputs": [
    {
     "name": "stdout",
     "output_type": "stream",
     "text": [
      "Cluster:\n",
      "{'cluster_type': 'cassandra',\n",
      " 'count': 16,\n",
      " 'instance': {'name': 'm5d.2xlarge',\n",
      "              'cpu': 8,\n",
      "              'cpu_ghz': 3.1,\n",
      "              'ram_gib': 32.0,\n",
      "              'net_mbps': 2000.0,\n",
      "              'drive': {'name': 'ephem',\n",
      "                        'size_gib': 300,\n",
      "                        'read_io_latency_ms': {'low': 0.08,\n",
      "                                               'mid': 0.12,\n",
      "                                               'high': 0.16,\n",
      "                                               'confidence': 0.9,\n",
      "                                               'minimum_value': 0.07,\n",
      "                                               'maximum_value': 2.0}},\n",
      "              'annual_cost': 1488.6},\n",
      " 'attached_drives': [],\n",
      " 'annual_cost': 23817.6,\n",
      " 'cluster_params': {'cassandra.keyspace.rf': 3}}\n",
      "Cost: 71477.50\n"
     ]
    }
   ],
   "source": [
    "smaller_dataset = CapacityDesires(\n",
    "    # This service is important to the business, not critical (tier 0)\n",
    "    service_tier=1,\n",
    "    query_pattern=QueryPattern(\n",
    "        # Not sure exactly how much QPS we will do, but we think around\n",
    "        # 10,000 reads and 10,000 writes per second.\n",
    "        estimated_read_per_second=Interval(\n",
    "            low=10_000, mid=100_000, high=1_000_000, confidence=0.9\n",
    "        ),\n",
    "        estimated_write_per_second=Interval(\n",
    "            low=10_000, mid=100_000, high=1_000_000, confidence=0.9\n",
    "        ),\n",
    "    ),\n",
    "    # Not sure how much data, but we think it'll be below 1 TiB\n",
    "    data_shape=DataShape(\n",
    "        estimated_state_size_gib=Interval(low=10, mid=100, high=200, confidence=0.9),\n",
    "    ),\n",
    ")\n",
    "\n",
    "cap_plan = planner.plan(\n",
    "    model_name=\"org.netflix.cassandra\",\n",
    "    region=\"us-east-1\",\n",
    "    desires=smaller_dataset,\n",
    ")\n",
    "\n",
    "requirement = cap_plan.requirements\n",
    "\n",
    "lr_opt1, lr_opt1_cost = (\n",
    "    cap_plan.least_regret[0].candidate_clusters.zonal[0],\n",
    "    cap_plan.least_regret[0].candidate_clusters.total_annual_cost\n",
    ")\n",
    "lr_opt2, lr_opt2_cost = (\n",
    "    cap_plan.least_regret[1].candidate_clusters.zonal[0],\n",
    "    cap_plan.least_regret[1].candidate_clusters.total_annual_cost\n",
    ")\n",
    "mean_opt, mean_cost = (\n",
    "    cap_plan.mean[0].candidate_clusters.zonal[0],\n",
    "    cap_plan.mean[0].candidate_clusters.total_annual_cost\n",
    ")\n",
    "\n",
    "print(\"Cluster:\",); mprint(lr_opt1)\n",
    "print(f\"Cost: {lr_opt1_cost}\")"
   ]
  },
  {
   "cell_type": "code",
   "execution_count": 9,
   "id": "familiar-formula",
   "metadata": {},
   "outputs": [
    {
     "name": "stdout",
     "output_type": "stream",
     "text": [
      "Cluster:\n",
      "{'cluster_type': 'cassandra',\n",
      " 'count': 16,\n",
      " 'instance': {'name': 'm5.2xlarge',\n",
      "              'cpu': 8,\n",
      "              'cpu_ghz': 3.1,\n",
      "              'ram_gib': 32.0,\n",
      "              'net_mbps': 2000.0,\n",
      "              'drive': None,\n",
      "              'annual_cost': 1264.6},\n",
      " 'attached_drives': [{'name': 'gp2',\n",
      "                      'size_gib': 2800,\n",
      "                      'annual_cost_per_gib': 1.2,\n",
      "                      'annual_cost_per_read_io': 0,\n",
      "                      'annual_cost_per_write_io': 0,\n",
      "                      'read_io_latency_ms': {'low': 0.8,\n",
      "                                             'mid': 1.05,\n",
      "                                             'high': 1.8,\n",
      "                                             'confidence': 0.9,\n",
      "                                             'maximum_value': 10.0},\n",
      "                      'write_io_latency_ms': {'low': 1.2,\n",
      "                                              'mid': 2.0,\n",
      "                                              'high': 4.0,\n",
      "                                              'confidence': 0.9,\n",
      "                                              'maximum_value': 20.0}}],\n",
      " 'annual_cost': 23593.6,\n",
      " 'cluster_params': {'cassandra.keyspace.rf': 3}}\n",
      "Cost: 70796.17\n"
     ]
    }
   ],
   "source": [
    "print(\"Cluster:\",); mprint(lr_opt2)\n",
    "print(f\"Cost: {lr_opt2_cost}\")"
   ]
  },
  {
   "cell_type": "markdown",
   "id": "ruled-consequence",
   "metadata": {},
   "source": [
    "# Example 3: Large Dataset + High QPS\n",
    "In this example we have a more demanding requirement from data perspective.\n",
    "\n",
    "**Observe**:\n",
    "* The move to storage dense instance type (i3) as it compensates for the disk footprint increases."
   ]
  },
  {
   "cell_type": "code",
   "execution_count": 10,
   "id": "coral-slave",
   "metadata": {},
   "outputs": [
    {
     "name": "stdout",
     "output_type": "stream",
     "text": [
      "Cluster:\n",
      "{'cluster_type': 'cassandra',\n",
      " 'count': 8,\n",
      " 'instance': {'name': 'i3en.2xlarge',\n",
      "              'cpu': 8,\n",
      "              'cpu_ghz': 3.1,\n",
      "              'ram_gib': 64.0,\n",
      "              'net_mbps': 8000.0,\n",
      "              'drive': {'name': 'ephem',\n",
      "                        'size_gib': 5000,\n",
      "                        'read_io_latency_ms': {'low': 0.08,\n",
      "                                               'mid': 0.12,\n",
      "                                               'high': 0.16,\n",
      "                                               'confidence': 0.9,\n",
      "                                               'minimum_value': 0.07,\n",
      "                                               'maximum_value': 2.0}},\n",
      "              'annual_cost': 2999.0},\n",
      " 'attached_drives': [],\n",
      " 'annual_cost': 23992.0,\n",
      " 'cluster_params': {'cassandra.keyspace.rf': 3}}\n",
      "Cost: 73131.17\n",
      "\n",
      "Requirement:\n",
      "{'requirement_type': 'cassandra-zonal',\n",
      " 'core_reference_ghz': 2.3,\n",
      " 'cpu_cores': {'low': 16.0, 'mid': 16.0, 'high': 16.0, 'confidence': 1.0},\n",
      " 'mem_gib': {'low': 45.0, 'mid': 45.0, 'high': 45.0, 'confidence': 1.0},\n",
      " 'network_mbps': {'low': 124.0, 'mid': 124.0, 'high': 124.0, 'confidence': 1.0},\n",
      " 'disk_gib': {'low': 4584.0, 'mid': 4584.0, 'high': 4584.0, 'confidence': 1.0},\n",
      " 'context': {'working_set': 0.01,\n",
      "             'rps_working_set': 1.0,\n",
      "             'disk_slo_working_set': 0.01,\n",
      "             'replication_factor': 3,\n",
      "             'compression_ratio': 0.54,\n",
      "             'read_per_second': 2854.0}}\n"
     ]
    }
   ],
   "source": [
    "larger_dataset = CapacityDesires(\n",
    "    # This service is important to the business, not critical (tier 0)\n",
    "    service_tier=1,\n",
    "    query_pattern=QueryPattern(\n",
    "        # Not sure exactly how much QPS we will do, but we think around\n",
    "        # 10,000 reads and 10,000 writes per second.\n",
    "        estimated_read_per_second=Interval(\n",
    "            low=1_000, mid=10_000, high=100_000, confidence=0.9\n",
    "        ),\n",
    "        estimated_write_per_second=Interval(\n",
    "            low=1_000, mid=10_000, high=100_000, confidence=0.9\n",
    "        ),\n",
    "    ),\n",
    "    # Not sure how much data, but we think it'll be below 100 TiB\n",
    "    data_shape=DataShape(\n",
    "        estimated_state_size_gib=Interval(low=1_000, mid=10_000, high=100_000, confidence=0.9),\n",
    "    ),\n",
    ")\n",
    "\n",
    "cap_plan = planner.plan(\n",
    "    model_name=\"org.netflix.cassandra\",\n",
    "    region=\"us-east-1\",\n",
    "    desires=larger_dataset,\n",
    "    require_local_disks=False,\n",
    ")\n",
    "\n",
    "requirement = cap_plan.requirements\n",
    "\n",
    "lr_opt1, lr_opt1_cost = (\n",
    "    cap_plan.least_regret[0].candidate_clusters.zonal[0],\n",
    "    cap_plan.least_regret[0].candidate_clusters.total_annual_cost\n",
    ")\n",
    "\n",
    "print(\"Cluster:\",); mprint(lr_opt1)\n",
    "print(f\"Cost: {lr_opt1_cost}\")\n",
    "print(\"\\nRequirement:\",); mprint(cap_plan.least_regret[0].requirements.zonal[0])\n"
   ]
  },
  {
   "cell_type": "markdown",
   "id": "orange-tobacco",
   "metadata": {},
   "source": [
    "# Example 4: Large Dataset + High QPS - Reduced Durability and Consistency\n",
    "In this example we have a more demanding requirement from data perspective, but a less demanding requirement from\n",
    "a consistency and durability perspective\n",
    "\n",
    "**Observe**:\n",
    "* The planner moves to RF=2 from RF=3 due to lower durability requirement.\n",
    "* We switch to compute + *EBS* due to the high per node footprint\n"
   ]
  },
  {
   "cell_type": "code",
   "execution_count": 11,
   "id": "surrounded-influence",
   "metadata": {},
   "outputs": [
    {
     "name": "stdout",
     "output_type": "stream",
     "text": [
      "Requirement:\n",
      "{'requirement_type': 'cassandra-zonal',\n",
      " 'core_reference_ghz': 2.3,\n",
      " 'cpu_cores': {'low': 80.0, 'mid': 80.0, 'high': 80.0, 'confidence': 1.0},\n",
      " 'mem_gib': {'low': 699.0, 'mid': 699.0, 'high': 699.0, 'confidence': 1.0},\n",
      " 'network_mbps': {'low': 270.0, 'mid': 270.0, 'high': 270.0, 'confidence': 1.0},\n",
      " 'disk_gib': {'low': 58321.0,\n",
      "              'mid': 58321.0,\n",
      "              'high': 58321.0,\n",
      "              'confidence': 1.0},\n",
      " 'context': {'working_set': 0.012,\n",
      "             'rps_working_set': 0.012,\n",
      "             'disk_slo_working_set': 0.42414238720584274,\n",
      "             'replication_factor': 2,\n",
      "             'compression_ratio': 0.69,\n",
      "             'read_per_second': 56.0}}\n",
      "Cluster:\n",
      "{'cluster_type': 'cassandra',\n",
      " 'count': 16,\n",
      " 'instance': {'name': 'r5.2xlarge',\n",
      "              'cpu': 8,\n",
      "              'cpu_ghz': 3.1,\n",
      "              'ram_gib': 64.0,\n",
      "              'net_mbps': 2000.0,\n",
      "              'drive': None,\n",
      "              'annual_cost': 1660.0},\n",
      " 'attached_drives': [{'name': 'gp2',\n",
      "                      'size_gib': 7400,\n",
      "                      'annual_cost_per_gib': 1.2,\n",
      "                      'annual_cost_per_read_io': 0,\n",
      "                      'annual_cost_per_write_io': 0,\n",
      "                      'read_io_latency_ms': {'low': 0.8,\n",
      "                                             'mid': 1.05,\n",
      "                                             'high': 1.8,\n",
      "                                             'confidence': 0.9,\n",
      "                                             'maximum_value': 10.0},\n",
      "                      'write_io_latency_ms': {'low': 1.2,\n",
      "                                              'mid': 2.0,\n",
      "                                              'high': 4.0,\n",
      "                                              'confidence': 0.9,\n",
      "                                              'maximum_value': 20.0}}],\n",
      " 'annual_cost': 35440.0,\n",
      " 'cluster_params': {'cassandra.keyspace.rf': 2}}\n",
      "Cost: 106320.00\n"
     ]
    }
   ],
   "source": [
    "from service_capacity_modeling.interface import GlobalConsistency\n",
    "from service_capacity_modeling.interface import Consistency\n",
    "from service_capacity_modeling.interface import AccessConsistency\n",
    "from service_capacity_modeling.interface import FixedInterval\n",
    "\n",
    "# Write once read never datasets, aka logs or tracing.\n",
    "worn = CapacityDesires(\n",
    "    # This service is important to the business, not critical (tier 0)\n",
    "    service_tier=1,\n",
    "    query_pattern=QueryPattern(\n",
    "        estimated_read_per_second=Interval(\n",
    "            low=10, mid=100, high=1000, confidence=0.9\n",
    "        ),\n",
    "        estimated_write_per_second=Interval(\n",
    "            low=10_000, mid=100_000, high=1_000_000, confidence=0.9\n",
    "        ),\n",
    "        # We are ok with eventual consistency on access\n",
    "        access_consistency=GlobalConsistency(\n",
    "            same_region=Consistency(\n",
    "                target_consistency=AccessConsistency.eventual\n",
    "            )\n",
    "        ),\n",
    "    ),\n",
    "    # Not sure how much data, but we think it'll be below 200 TiB\n",
    "    data_shape=DataShape(\n",
    "        estimated_state_size_gib=Interval(low=10_000, mid=100_000, high=200_000, confidence=0.9),\n",
    "        durability_slo_order=FixedInterval(low=10, mid=100, high=100000),\n",
    "    ),\n",
    ")\n",
    "\n",
    "cap_plan = planner.plan(\n",
    "    model_name=\"org.netflix.cassandra\",\n",
    "    region=\"us-east-1\",\n",
    "    desires=worn,\n",
    ")\n",
    "\n",
    "requirement = cap_plan.requirements\n",
    "\n",
    "lr_opt1, lr_opt1_cost = (\n",
    "    cap_plan.least_regret[0].candidate_clusters.zonal[0],\n",
    "    cap_plan.least_regret[0].candidate_clusters.total_annual_cost\n",
    ")\n",
    "\n",
    "print(\"Requirement:\",); mprint(cap_plan.least_regret[0].requirements.zonal[0],)\n",
    "print(\"Cluster:\",); mprint(lr_opt1)\n",
    "print(f\"Cost: {lr_opt1_cost}\")"
   ]
  },
  {
   "cell_type": "markdown",
   "id": "danish-bristol",
   "metadata": {},
   "source": [
    "# Modeling Intervals\n",
    "The key to the capacity planner is going from intervals such as `my RPS will be within an order of magnitude of 10,000 per second` to a generative probability distribution that is skewed. We represent these with `Intervals` which have a `low`, `mid` and `high`. For example:\n",
    "\n",
    "```\n",
    "rps = Interval(low=1_000, mid=10_000, high=100_000, confidence=0.9)\n",
    "```\n",
    "\n",
    "Under the hood we do this by solving a numerical set of equations for the [gamma](https://en.wikipedia.org/wiki/Gamma_distribution#:~:text=The%20gamma%20distribution%20is%20the,%CF%88%20is%20the%20digamma%20function) distribution and fitting to the summary statistics."
   ]
  },
  {
   "cell_type": "code",
   "execution_count": 12,
   "id": "vulnerable-characteristic",
   "metadata": {},
   "outputs": [
    {
     "data": {
      "image/png": "[encoded data removed]",
      "text/plain": [
       "<Figure size 1080x360 with 2 Axes>"
      ]
     },
     "metadata": {
      "needs_background": "light"
     },
     "output_type": "display_data"
    }
   ],
   "source": [
    "from service_capacity_modeling.stats import dist_for_interval\n",
    "import matplotlib.pyplot as plt\n",
    "import numpy as np\n",
    "\n",
    "rps = Interval(low=1_000, mid=10_000, high=100_000, confidence=0.9)\n",
    "wps = Interval(low=100, mid=1_000, high=2_000, confidence=0.9)\n",
    "\n",
    "rps_beta = dist_for_interval(rps)\n",
    "wps_beta = dist_for_interval(wps)\n",
    "\n",
    "\n",
    "fig, (ax1, ax2) = plt.subplots(2, 1, figsize=(15,5))\n",
    "ax1.ticklabel_format(useOffset=False)\n",
    "\n",
    "x = np.linspace(10, 40_000, 10000)\n",
    "\n",
    "# First RPS\n",
    "ax1.plot(x, rps_beta.pdf(x), 'k-', lw=2, label='rps PDF')\n",
    "\n",
    "r = rps_beta.rvs(size=1028)\n",
    "ax1.hist(r, density=True, histtype='stepfilled', alpha=0.2, bins=50, label=\"simulated\")\n",
    "ax1.legend(loc='best', frameon=False)\n",
    "ax1.set_xlim(5, 30_000)\n",
    "\n",
    "# Now WPS\n",
    "ax2.plot(x, wps_beta.pdf(x), 'k-', lw=2, label='wps PDF')\n",
    "\n",
    "r = wps_beta.rvs(size=1028)\n",
    "ax2.hist(r, density=True, histtype='stepfilled', alpha=0.2, bins=50, label=\"simulated\")\n",
    "ax2.legend(loc='best', frameon=False)\n",
    "ax2.set_xlim(5, 30_000)\n",
    "\n",
    "\n",
    "plt.show()"
   ]
  },
  {
   "cell_type": "markdown",
   "id": "conscious-principal",
   "metadata": {},
   "source": [
    "# Key Insight: Skew Matters\n",
    "\n",
    "Physical processes skew left and skew right, and we need to be able to represent that. Luckily we can!"
   ]
  },
  {
   "cell_type": "code",
   "execution_count": 13,
   "id": "oriented-wiring",
   "metadata": {},
   "outputs": [
    {
     "data": {
      "image/png": "[encoded data removed]",
      "text/plain": [
       "<Figure size 1080x360 with 1 Axes>"
      ]
     },
     "metadata": {
      "needs_background": "light"
     },
     "output_type": "display_data"
    }
   ],
   "source": [
    "left_skew = Interval(low=100, mid=300, high=2000, confidence=0.9)\n",
    "right_skew = Interval(low=100, mid=1500, high=2000, confidence=0.9)\n",
    "\n",
    "left_gamma = dist_for_interval(left_skew)\n",
    "right_gamma = dist_for_interval(right_skew)\n",
    "\n",
    "fig, ax = plt.subplots(1, 1, figsize=(15,5))\n",
    "\n",
    "x = np.linspace(10, 4000, 1000)\n",
    "\n",
    "# Now right skew\n",
    "ax.plot(x, left_gamma.pdf(x), 'k-', lw=2, label='left PDF')\n",
    "ax.plot(x, right_gamma.pdf(x), 'k-', lw=2, label='right PDF')\n",
    "\n",
    "ax.hist(left_gamma.rvs(size=1028), density=True, histtype='stepfilled', alpha=0.2, bins=100, label=\"left sim\")\n",
    "ax.hist(right_gamma.rvs(size=1028), density=True, histtype='stepfilled', alpha=0.2, bins=100, label=\"right sim\")\n",
    "\n",
    "ax.legend(loc='best', frameon=False)\n",
    "ax.set_xlim(0.0, 4000)\n",
    "\n",
    "plt.show()"
   ]
  },
  {
   "cell_type": "code",
   "execution_count": null,
   "id": "honest-soviet",
   "metadata": {},
   "outputs": [],
   "source": []
  }
 ],
 "metadata": {
  "kernelspec": {
   "display_name": "Python 3",
   "language": "python",
   "name": "python3"
  },
  "language_info": {
   "codemirror_mode": {
    "name": "ipython",
    "version": 3
   },
   "file_extension": ".py",
   "mimetype": "text/x-python",
   "name": "python",
   "nbconvert_exporter": "python",
   "pygments_lexer": "ipython3",
   "version": "3.8.5"
  }
 },
 "nbformat": 4,
 "nbformat_minor": 5
}
