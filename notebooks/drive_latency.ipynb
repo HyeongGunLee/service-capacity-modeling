{
 "cells": [
  {
   "cell_type": "markdown",
   "id": "frank-russell",
   "metadata": {},
   "source": [
    "We can actually use our interval estimates to approximate all manner of Hardware properties such as:\n",
    "\n",
    "* On CPU time of operations (e.g. some reads are slower than others)\n",
    "* Request size distributions (e.g. some reads are bigger than others)\n",
    "* Disk latency (e.g. some disks are faster or more consistent than others)\n",
    "\n",
    "For a concrete example let's model a m5d drive which we [model](https://github.com/Netflix-Skunkworks/service-capacity-modeling/blob/dd1fb503b4505327d1cf14d2d614c0e796bb8f05/service_capacity_modeling/hardware/profiles/shapes/aws.json#L98) with an io latency distribution. Data for comparision comes from using `biosnoop` and [`histogram.py`](https://github.com/bitly/data_hacks/blob/master/data_hacks/histogram.py) on a Cassandra server (the threads that are servicing reads are from the SharedPool).\n",
    "\n",
    "```bash\n",
    "$ sudo /usr/share/bcc/tools/biosnoop > ios\n",
    "$ grep SharedPool ios | tr -s ' ' | cut -f 8  -d ' ' > io_lat\n",
    "$ cat io_lat | histogram.py -l -p\n",
    "# NumSamples = 107517; Min = 0.06; Max = 2.43\n",
    "# Mean = 0.118898; Variance = 0.002304; SD = 0.048005; Median 0.100000\n",
    "# each ∎ represents a count of 569\n",
    "    0.0600 -     0.0623 [    94]:  (0.09%)\n",
    "    0.0623 -     0.0670 [     0]:  (0.00%)\n",
    "    0.0670 -     0.0762 [   505]:  (0.47%)\n",
    "    0.0762 -     0.0948 [ 33459]: ∎∎∎∎∎∎∎∎∎∎∎∎∎∎∎∎∎∎∎∎∎∎∎∎∎∎∎∎∎∎∎∎∎∎∎∎∎∎∎∎∎∎∎∎∎∎∎∎∎∎∎∎∎∎∎∎∎∎ (31.12%)\n",
    "    0.0948 -     0.1318 [ 42706]: ∎∎∎∎∎∎∎∎∎∎∎∎∎∎∎∎∎∎∎∎∎∎∎∎∎∎∎∎∎∎∎∎∎∎∎∎∎∎∎∎∎∎∎∎∎∎∎∎∎∎∎∎∎∎∎∎∎∎∎∎∎∎∎∎∎∎∎∎∎∎∎∎∎∎∎ (39.72%)\n",
    "    0.1318 -     0.2060 [ 29154]: ∎∎∎∎∎∎∎∎∎∎∎∎∎∎∎∎∎∎∎∎∎∎∎∎∎∎∎∎∎∎∎∎∎∎∎∎∎∎∎∎∎∎∎∎∎∎∎∎∎∎∎ (27.12%)\n",
    "    0.2060 -     0.3542 [   994]: ∎ (0.92%)\n",
    "    0.3542 -     0.6508 [   523]:  (0.49%)\n",
    "    0.6508 -     1.2438 [    77]:  (0.07%)\n",
    "    1.2438 -     2.4300 [     5]:  (0.00%)\n",
    "```"
   ]
  },
  {
   "cell_type": "code",
   "execution_count": 1,
   "id": "lesbian-operation",
   "metadata": {},
   "outputs": [],
   "source": [
    "from service_capacity_modeling.stats import gamma_for_interval\n",
    "from service_capacity_modeling.interface import FixedInterval, Interval\n",
    "\n",
    "import matplotlib.pyplot as plt\n",
    "import numpy as np"
   ]
  },
  {
   "cell_type": "code",
   "execution_count": 2,
   "id": "sticky-matrix",
   "metadata": {},
   "outputs": [
    {
     "name": "stdout",
     "output_type": "stream",
     "text": [
      "[0.08 0.1  0.18] with mean 0.11889756968665424 and range [0.06, 2.43]\n",
      "{\"low\": 0.08, \"mid\": 0.1189, \"high\": 0.18, \"confidence\": 0.9}\n"
     ]
    }
   ],
   "source": [
    "real_data = np.loadtxt(\"m5d_cass_io_lat\")\n",
    "real_interval = np.percentile(real_data, [5, 50, 95])\n",
    "print(f\"{real_interval} with mean {np.mean(real_data)} and range [{min(real_data)}, {max(real_data)}]\")\n",
    "\n",
    "read_io_latency = FixedInterval(\n",
    "    low=round(real_interval[0], 2),\n",
    "    mid=round(np.mean(real_data), 4),\n",
    "    high=round(real_interval[2], 2),\n",
    "    confidence=0.9\n",
    ")\n",
    "    \n",
    "io_gamma = gamma_for_interval(read_io_latency)\n",
    "print(read_io_latency.json(exclude_unset=True))"
   ]
  },
  {
   "cell_type": "code",
   "execution_count": 3,
   "id": "occasional-crown",
   "metadata": {},
   "outputs": [
    {
     "data": {
      "image/png": "[encoded data removed]",
      "text/plain": [
       "<Figure size 1080x360 with 1 Axes>"
      ]
     },
     "metadata": {
      "needs_background": "light"
     },
     "output_type": "display_data"
    }
   ],
   "source": [
    "fig, ax = plt.subplots(1, 1, figsize=(15,5))\n",
    "\n",
    "x = np.linspace(0.01, 0.3, 10000)\n",
    "\n",
    "ax.plot(x, io_gamma.pdf(x), 'k-', lw=2, label='io PDF')\n",
    "\n",
    "r = io_gamma.rvs(size=len(real_data))\n",
    "ax.hist(r, density=True, histtype='stepfilled', alpha=0.4, bins=50, label=\"simulated\")\n",
    "ax.hist(real_data, density=True, histtype='stepfilled', bins=200, alpha=0.2, label=\"real\")\n",
    "\n",
    "ax.legend(loc='best', frameon=False)\n",
    "ax.set_xlim(0.0, 0.3)\n",
    "\n",
    "plt.show()"
   ]
  },
  {
   "cell_type": "code",
   "execution_count": 4,
   "id": "heavy-turkish",
   "metadata": {},
   "outputs": [
    {
     "name": "stdout",
     "output_type": "stream",
     "text": [
      "KstestResult(statistic=0.19224866765255733, pvalue=0.0)\n"
     ]
    }
   ],
   "source": [
    "from scipy.stats import kstest\n",
    "print(kstest(r, real_data))"
   ]
  },
  {
   "cell_type": "code",
   "execution_count": null,
   "id": "fleet-second",
   "metadata": {},
   "outputs": [],
   "source": []
  }
 ],
 "metadata": {
  "kernelspec": {
   "display_name": "Python 3",
   "language": "python",
   "name": "python3"
  },
  "language_info": {
   "codemirror_mode": {
    "name": "ipython",
    "version": 3
   },
   "file_extension": ".py",
   "mimetype": "text/x-python",
   "name": "python",
   "nbconvert_exporter": "python",
   "pygments_lexer": "ipython3",
   "version": "3.8.5"
  }
 },
 "nbformat": 4,
 "nbformat_minor": 5
}
